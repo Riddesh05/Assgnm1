{
 "cells": [
  {
   "cell_type": "markdown",
   "id": "8245ccd8",
   "metadata": {},
   "source": [
    "# Q1"
   ]
  },
  {
   "cell_type": "markdown",
   "id": "87f39f2b",
   "metadata": {},
   "source": [
    "1 Ans]\n",
    "- Variable name must start with letter or any underscore\n",
    "- Variable name can not start with number\n",
    "- Use spaces around the assignment operator for better readability.\n",
    "- It can contain only aplha numeric characters and underscore"
   ]
  },
  {
   "cell_type": "markdown",
   "id": "adc91e6e",
   "metadata": {},
   "source": [
    "# Q2\n"
   ]
  },
  {
   "cell_type": "markdown",
   "id": "d18b04cd",
   "metadata": {},
   "source": [
    "2 Ans]\n",
    "-if we try to declare a variable using a reserved keyword then it will give syntax error.python reserves certtain words as keywords because they are part of the language's syntac and have specific meaning \n",
    " for example\n",
    " if we try to declare a variable using a reserved keyword like 'class':\n",
    " class =\"riddddd\"\n",
    " \n",
    " we will get a syntax error\n",
    " SyntaxError: invalid syntax\n"
   ]
  },
  {
   "cell_type": "markdown",
   "id": "d6a7b4bf",
   "metadata": {},
   "source": [
    "# Q3"
   ]
  },
  {
   "cell_type": "markdown",
   "id": "10ffc4df",
   "metadata": {},
   "source": [
    "yes we can declare string as variable name like example"
   ]
  },
  {
   "cell_type": "code",
   "execution_count": 2,
   "id": "b8f90be2",
   "metadata": {},
   "outputs": [
    {
     "name": "stdout",
     "output_type": "stream",
     "text": [
      "hello everyone , Myself Ash\n"
     ]
    }
   ],
   "source": [
    "v=\"hello everyone , Myself Ash\"\n",
    "print(v)"
   ]
  },
  {
   "cell_type": "markdown",
   "id": "53fba25c",
   "metadata": {},
   "source": [
    "# Q4"
   ]
  },
  {
   "cell_type": "markdown",
   "id": "c73f0f95",
   "metadata": {},
   "source": [
    "Yes it is possible to  use an underscore a variable name\n",
    "for example:"
   ]
  },
  {
   "cell_type": "code",
   "execution_count": 3,
   "id": "d99a2924",
   "metadata": {},
   "outputs": [
    {
     "name": "stdout",
     "output_type": "stream",
     "text": [
      "10\n"
     ]
    }
   ],
   "source": [
    "_a=10\n",
    "print(_a)"
   ]
  },
  {
   "cell_type": "markdown",
   "id": "69d2cf85",
   "metadata": {},
   "source": [
    "# Q5"
   ]
  },
  {
   "cell_type": "markdown",
   "id": "7845ead2",
   "metadata": {},
   "source": [
    "the dynamic nature of variables in Python:"
   ]
  },
  {
   "cell_type": "code",
   "execution_count": 4,
   "id": "e3a32c98",
   "metadata": {},
   "outputs": [
    {
     "name": "stdout",
     "output_type": "stream",
     "text": [
      "Value: 5 Type: <class 'int'>\n"
     ]
    }
   ],
   "source": [
    "# Assigning an integer to a variable\n",
    "my_variable = 5\n",
    "print(\"Value:\", my_variable, \"Type:\", type(my_variable))"
   ]
  },
  {
   "cell_type": "code",
   "execution_count": null,
   "id": "83847baa",
   "metadata": {},
   "outputs": [],
   "source": []
  }
 ],
 "metadata": {
  "kernelspec": {
   "display_name": "Python 3 (ipykernel)",
   "language": "python",
   "name": "python3"
  },
  "language_info": {
   "codemirror_mode": {
    "name": "ipython",
    "version": 3
   },
   "file_extension": ".py",
   "mimetype": "text/x-python",
   "name": "python",
   "nbconvert_exporter": "python",
   "pygments_lexer": "ipython3",
   "version": "3.10.9"
  }
 },
 "nbformat": 4,
 "nbformat_minor": 5
}
